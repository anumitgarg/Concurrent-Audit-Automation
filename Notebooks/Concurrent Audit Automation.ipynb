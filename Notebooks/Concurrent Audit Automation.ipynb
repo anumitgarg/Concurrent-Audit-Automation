{
 "cells": [
  {
   "cell_type": "markdown",
   "metadata": {},
   "source": [
    "#  <u> Concurrent Audit Automation </u>\n",
    "On a daily basis, foreign exchange (FX) transactions data is monitored for compliance with RBI regulations pertaining to confirmation of FX deal. This includes a number of FX deal attributes (e.g. Transaction Reference, Counterparty Name, Deal Date, Value Date, Primary Currency, Counter Currency, Primary Currency Amount, Counter Currency Amount, etc.).\n",
    "<br><br>\n",
    "On an average, transaction testers have to manually review: 1250-1500 underlying documents with 12-15 attributes in each underlying document resulting in physical verification of 15000-22500 data points.\n",
    "<br><br>\n",
    "We have developed a transaction testing solution that can automate manual review by converting unstructured data in scanned “.pdf” files into structured data followed by comparison with the system generated deal listing. We have used state of the art machine learning algorithms, natural language processing techniques and self developed algorithms that can automate the process of verification of documents and simultaneously creating an assessment report that summarizes the faults and anomalies encountered while verification."
   ]
  },
  {
   "cell_type": "markdown",
   "metadata": {},
   "source": [
    "### Importing necessary libraries and the GOOGLE CREDENTIAL key for accessing CLOUD VISION API"
   ]
  },
  {
   "cell_type": "code",
   "execution_count": 53,
   "metadata": {},
   "outputs": [],
   "source": [
    "import tkinter as tk\n",
    "from tkinter import font\n",
    "from tkinter import filedialog as fd\n",
    "\n",
    "import sys \n",
    "import os \n",
    "import io\n",
    "import re\n",
    "\n",
    "import numpy as np\n",
    "import pandas as pd\n",
    "\n",
    "from PIL import Image, ImageOps\n",
    "from pdf2image import convert_from_path\n",
    "from difflib import SequenceMatcher\n",
    "\n",
    "credential_path = 'E:\\GCP\\macbook-2c718e707810.json'\n",
    "os.environ['GOOGLE_APPLICATION_CREDENTIALS'] = credential_path\n",
    "# Imports the Google Cloud client library\n",
    "from google.cloud import vision\n",
    "from google.cloud.vision import types\n",
    "\n",
    "from toolbox import *\n",
    "#from toolbox import detect_document, find_ref, amt, currency, givedates, changeformat"
   ]
  },
  {
   "cell_type": "markdown",
   "metadata": {},
   "source": [
    "### Fields specified by user (Document and system dump path)"
   ]
  },
  {
   "cell_type": "code",
   "execution_count": 54,
   "metadata": {},
   "outputs": [],
   "source": [
    "# Path of the document to be processed\n",
    "pdf_path = '1681869232.pdf'\n",
    "\n",
    "# Path to system dump\n",
    "dmp_path = 'System dump.xlsx'"
   ]
  },
  {
   "cell_type": "markdown",
   "metadata": {},
   "source": [
    "### Conversion of PDF to image\n",
    "The PDF document is converted and saved in the form of image, which is further processed to enhance its quality and used to extract features from the document."
   ]
  },
  {
   "cell_type": "code",
   "execution_count": 55,
   "metadata": {},
   "outputs": [],
   "source": [
    "pdf_name = pdf_path\n",
    "system_dump = dmp_path\n",
    "\n",
    "img_name = 'img'\n",
    "\n",
    "pages = convert_from_path(pdf_name, 500)\n",
    "# Padding of image is done to make OCR more robust on texts printed on the edges\n",
    "border = 150\n",
    "image_counter = 1\n",
    "for page in pages: \n",
    "    filename = img_name+str(image_counter)+\".jpg\"\n",
    "    page = ImageOps.expand(page, border=border, fill = 'white')\n",
    "    page.save(filename, 'JPEG') \n",
    "    image_counter = image_counter + 1 \n",
    "filelimit = image_counter-1"
   ]
  },
  {
   "cell_type": "markdown",
   "metadata": {},
   "source": [
    "###  Recognition of text and other important features of the document using Cloud Vision API"
   ]
  },
  {
   "cell_type": "code",
   "execution_count": 56,
   "metadata": {},
   "outputs": [],
   "source": [
    "\"\"\"\n",
    "Data is returned in two formats\n",
    "1. data: Contains data in the form of blocks of text\n",
    "2. data1: a sigle string containing all the text present in the document\n",
    "\"\"\"\n",
    "\n",
    "data =[]\n",
    "for i in range(1, filelimit + 1): \n",
    "    filename = img_name+str(i)+\".jpg\"\n",
    "    text = detect_document(filename)\n",
    "    data.append(text)\n",
    "\n",
    "strf = ''\n",
    "for i in range(len(data)):\n",
    "    for j in range(len(data[i])):\n",
    "        for k in range(len((data[i])[j])):\n",
    "            strf += ((((data[i])[j])[k]).strip(\" \"))\n",
    "            strf += ' '\n",
    "data1 = strf\n",
    "data1 = data1.lower()"
   ]
  },
  {
   "cell_type": "code",
   "execution_count": 57,
   "metadata": {},
   "outputs": [
    {
     "name": "stdout",
     "output_type": "stream",
     "text": [
      "[[['Ref', '1681869232'], ['Covering', 'Schedule', '-', 'Import'], ['XYZ', 'Bank'], ['Our', 'ref', '.', '5371LIF1800038'], ['Suprem', '.', '3rd', 'FL', ',', 'CTS', 'No', '.', '1337', '/', '2', ',', 'S', '.', 'No', '.', 'XY', 'House', ',', 'Hazarimal', 'Somani', 'Marg', ',', 'Fort', 'Mumbai', '-', '1', 'Banking', '&', 'Other', 'Financial', 'Services', 'Swift', ':', 'DEUTINBSPUN'], ['LC', 'no', '.', '537LCF1800035'], ['CUSTOMER', 'INSTRUCTION'], ['Tel', 'Fax'], ['Amount', 'USD', '456', ',', '000', '.', '00', 'Tenor', '86', 'DAYS', 'From', 'dale', 'of', 'Invoice', 'Corr', '.', 'ref', '.'], ['28', 'APR', '2018'], ['Applicant', '456', 'INDIA', 'PRIVATE', 'LIMITED'], ['Beneficiary', 'KUIBYSHEVAZOT', 'TRADING', '(', 'HK', ')', 'CO', '.', ',', 'LTD', ',', 'UNIT', '1109', ',', '11', '/', 'F', ',', 'KOWLOON', 'CENTRE', ',', '33', 'ASHLEY', 'ROAD', ',', 'TSIMSHATSUI', 'KOWLOON', ',', 'HONG', 'KONG', '.'], ['UNIT', '601', ',', '6TH', 'FLOOR', ',', 'CELLO', 'PLATINA', 'FERGUSSON', 'ROAD', ',', 'MODEL', 'COLONY', 'SHIVAJI', 'NAGAR', ',', 'PUNE', '411016', ',', 'INDIA', 'INDIA'], ['Ref', ':', '18', '.', '101', 'Maturity', 'Date', ':'], ['7', 'JUL', '2018'], ['Dead', 'Endless'], ['.', '.'], ['Das', 'prasad', 'Held', 'with', 'Brei'], ['-'], ['-'], ['-'], ['-'], ['-'], ['-'], ['-'], ['-'], ['TO'], ['XYZ', 'Bank', '134', '/', '2', ',', 'MAIN', 'ITI', 'ROAD', ',', 'AUNDH', 'PUNE', '411', '007', 'INDIA'], ['Date', 'Bank', 'Ref', ':', '5371UF1800038'], ['[', ']', 'We', 'confirm', 'that', 'the', 'documents', 'specified', 'herein', 'are', 'in', 'order', '/', 'are', 'acceptable', 'to', 'us', 'and', 'are', ',', 'regardless', 'of', 'any', 'discrepancies', ',', 'compliance', 'with', 'instructions', 'contained', 'in', 'our', 'relative', 'applications', '.', 'We', 'would', 'request', 'you', 'to', 'follow', 'our', 'instructions', 'marked', '(', 'x', ')', 'below'], ['mann'], ['(', 'We', 'enclose', 'our', 'cheque', 'no', '.', '(', ')', 'Please', 'debit', 'our', 'account', 'no', '.', '6003909000', 'with', 'you', '.', '(', ')', 'Please', 'debit', 'our', 'account', 'no', '.', 'With', 'you', 'at', 'maturity', '.', '(', ')', 'Please', 'apply', 'the', 'FX', 'Forward', 'Deal', 'no', '.', '(', ')', 'Please', 'transfer', 'to', 'TR', 'for', 'days', 'at', 'maturity', ',', '(', ')', 'in', 'local', 'currency', '.', '(', ')', 'in', 'currency', 'of', 'the', 'bill', '.', '(', 'Please', 'utilize', 'the', 'proceeds', 'of', 'our', 'export', 'bills', 'in', 'settlement', 'at', 'maturity', 'under', 'our', 'ref', '.', 'no', '.', '[', '1', 'Documents', 'are', 'rejected', '.', 'Reasons', ':'], ['COURIER', '/', 'POST'], ['Comumbai'], ['27', 'JUN', '2013'], ['Time', 'RECEIVED'], ['Authorised', 'Signature', '(', 'Please', 'sign', 'and', 'return', 'to', 'us', ')'], ['Page'], ['1', 'of'], ['1'], ['Subject', 'to', 'the', 'Rules', 'mentioned', 'in', 'the', 'underlying', 'Letter', 'of', 'Credit', 'and', '/', 'or', 'any', 'amendments', 'thereto', '.'], ['CPTSUSY', '1', '/', 'CPTSDUK1'], ['11800']]]\n",
      "ref 1681869232 covering schedule - import xyz bank our ref . 5371lif1800038 suprem . 3rd fl , cts no . 1337 / 2 , s . no . xy house , hazarimal somani marg , fort mumbai - 1 banking & other financial services swift : deutinbspun lc no . 537lcf1800035 customer instruction tel fax amount usd 456 , 000 . 00 tenor 86 days from dale of invoice corr . ref . 28 apr 2018 applicant 456 india private limited beneficiary kuibyshevazot trading ( hk ) co . , ltd , unit 1109 , 11 / f , kowloon centre , 33 ashley road , tsimshatsui kowloon , hong kong . unit 601 , 6th floor , cello platina fergusson road , model colony shivaji nagar , pune 411016 , india india ref : 18 . 101 maturity date : 7 jul 2018 dead endless . . das prasad held with brei - - - - - - - - to xyz bank 134 / 2 , main iti road , aundh pune 411 007 india date bank ref : 5371uf1800038 [ ] we confirm that the documents specified herein are in order / are acceptable to us and are , regardless of any discrepancies , compliance with instructions contained in our relative applications . we would request you to follow our instructions marked ( x ) below mann ( we enclose our cheque no . ( ) please debit our account no . 6003909000 with you . ( ) please debit our account no . with you at maturity . ( ) please apply the fx forward deal no . ( ) please transfer to tr for days at maturity , ( ) in local currency . ( ) in currency of the bill . ( please utilize the proceeds of our export bills in settlement at maturity under our ref . no . [ 1 documents are rejected . reasons : courier / post comumbai 27 jun 2013 time received authorised signature ( please sign and return to us ) page 1 of 1 subject to the rules mentioned in the underlying letter of credit and / or any amendments thereto . cptsusy 1 / cptsduk1 11800 \n"
     ]
    }
   ],
   "source": [
    "print(data)\n",
    "print(data1)"
   ]
  },
  {
   "cell_type": "markdown",
   "metadata": {},
   "source": [
    "### Extraction of attributes from document.\n",
    "Attributes are extracted using self developed algorithms stored in toolbox.py file.<br>\n",
    "For detailed description and working of algorithms see toolbox.py file."
   ]
  },
  {
   "cell_type": "code",
   "execution_count": 58,
   "metadata": {},
   "outputs": [],
   "source": [
    "ref_no = find_ref(data1)\n",
    "invoice_amt = amt(data1)\n",
    "cur_list = currency(data1)\n",
    "sub = organisation(data)\n",
    "\n",
    "# Extraction of dates\n",
    "dlist = datestring(data1)\n",
    "invdate = dlist[0]\n",
    "setdate = dlist[1]"
   ]
  },
  {
   "cell_type": "code",
   "execution_count": 59,
   "metadata": {},
   "outputs": [
    {
     "name": "stdout",
     "output_type": "stream",
     "text": [
      "1681869232\n",
      "456000.0\n",
      "28-April-2018\n",
      "07-July-2018\n"
     ]
    }
   ],
   "source": [
    "# Verification of extracted fields\n",
    "print(ref_no)\n",
    "print(invoice_amt)\n",
    "print(invdate)\n",
    "print(setdate)"
   ]
  },
  {
   "cell_type": "markdown",
   "metadata": {},
   "source": [
    "### Information from System dump is extracted from the excel file\n",
    "Once the reference number is extracted from the file, this information is used to verify whether the information about the same document is present in the system dump. If the information is present then all the fields corresponding to the reference number are extracted and stored in the variables for further processing."
   ]
  },
  {
   "cell_type": "code",
   "execution_count": 60,
   "metadata": {},
   "outputs": [],
   "source": [
    "# Reading Excel file\n",
    "sys_dump = pd.read_excel(system_dump, index_col=0)\n",
    "\n",
    "# Index of the row is extracted which belongs to the extracted reference number\n",
    "idx = sys_dump.index[sys_dump['REF_ID'] == ref_no].tolist()\n",
    "\n",
    "sys_counter_party = (sys_dump.loc[idx[0]]['COUNTERPARTY_FULLNAME']).lower()\n",
    "sys_trade_date = (sys_dump.loc[idx[0]]['TRADE_DATE'])\n",
    "sys_settle_date = (sys_dump.loc[idx[0]]['SETTLEMENT_DATE'])\n",
    "sys_cur1 = (sys_dump.loc[idx[0]]['CURRENCY1']).lower()\n",
    "sys_cur2 = (sys_dump.loc[idx[0]]['CURRENCY2']).lower()\n",
    "sys_amt = float(sys_dump.loc[idx[0]]['NOTIONAL1'])\n",
    "sys_amt = abs(sys_amt)\n",
    "# Stamp date also to be included"
   ]
  },
  {
   "cell_type": "code",
   "execution_count": 61,
   "metadata": {},
   "outputs": [
    {
     "name": "stdout",
     "output_type": "stream",
     "text": [
      "456 india private limited\n",
      "15-JUN-2018\n",
      "11-JUL-2018\n",
      "usd\n",
      "inr\n",
      "456000.0\n"
     ]
    }
   ],
   "source": [
    "print(sys_counter_party)\n",
    "print(sys_trade_date)\n",
    "print(sys_settle_date)\n",
    "print(sys_cur1)\n",
    "print(sys_cur2)\n",
    "print(sys_amt)"
   ]
  },
  {
   "cell_type": "markdown",
   "metadata": {},
   "source": [
    "### Algorithm for the verification of attributes extracted from the document\n",
    "Each attribute is verified based on the guidelines provided by the organisers. Each attribute has an associated flag variable which acts as an indication of the status of accuracy of the attribute. "
   ]
  },
  {
   "cell_type": "code",
   "execution_count": 62,
   "metadata": {},
   "outputs": [],
   "source": [
    "# Flag will be raised when there is exception\n",
    "amt_f = 0\n",
    "ivd_f = 0\n",
    "pd_f = 0\n",
    "cur_f = 0\n",
    "org_f = 0\n",
    "stm_f = 0\n",
    "\n",
    "valid = 0\n",
    "\n",
    "# Processing for date\n",
    "td = changeformat(sys_trade_date)\n",
    "sd = changeformat(sys_settle_date)\n",
    "listx = givedates(data1)\n",
    "\n",
    "# Verification for Amount\n",
    "if(invoice_amt >= sys_amt):\n",
    "    amt_f = 0\n",
    "else:\n",
    "    amt_f = 1\n",
    "\n",
    "\n",
    "\n",
    "# Verification for currency\n",
    "if((sys_cur1 in cur_list) or (sys_cur2 in cur_list)):\n",
    "    cur_f = 0\n",
    "else:\n",
    "    cur_f = 1\n",
    "\n",
    "\n",
    "# Verification for organisation\n",
    "if(sys_counter_party in sub):\n",
    "    org_f = 0\n",
    "else:\n",
    "    org_f = 1\n",
    "\n",
    "\n",
    "# Trade(sys_dmp) - Invoice(doc) > 0\n",
    "delta1 = date(td[0], td[1], td[2]) - date(listx[0][0], listx[0][1], listx[0][2])\n",
    "if(delta1.days > 0):\n",
    "    ivd_f = 0\n",
    "else:\n",
    "     ivd_f = 1\n",
    "\n",
    "\n",
    "\n",
    "# Payment date(doc) - Settlement date > 0\n",
    "delta2 = date(listx[1][0], listx[1][1], listx[1][2]) - date(sd[0], sd[1], sd[2])\n",
    "if(delta2.days > 0):\n",
    "    pd_f = 0\n",
    "else:\n",
    "    pd_f = 1\n",
    "\n",
    "\n",
    "stamp_message = ''\n",
    "#  Stamp(doc) - Trade <= 15\n",
    "if(len(listx) >= 3):\n",
    "    delta3 = date(listx[-1][0], listx[-1][1], listx[-1][2]) - date(td[0], td[1], td[2])\n",
    "    if(delta3.days <= 15):\n",
    "        stm_f = 0\n",
    "    else:\n",
    "        stamp_message = ' Stamp date did not match.'\n",
    "        stm_f = 1\n",
    "else:\n",
    "    stamp_message = ' Stamp not found.'\n",
    "    stm_f = 1\n",
    "\n",
    "\n",
    "\n",
    "# Document verified or not\n",
    "if(amt_f == 0 and ivd_f == 0 and pd_f == 0 and cur_f == 0 and org_f == 0 and stm_f == 0):\n",
    "    valid = 0\n",
    "else:\n",
    "    valid = 1\n",
    "\n",
    "\n",
    "\n",
    "if(valid==1):\n",
    "    validation = 'Not Verified !!'\n",
    "\n",
    "    message = ''\n",
    "    if(amt_f == 1):\n",
    "        message += ' Amount,'\n",
    "    if(ivd_f == 1):\n",
    "        message += ' Invoice date,' \n",
    "    if(pd_f == 1):\n",
    "        message += ' Payment date,'\n",
    "    if(cur_f == 1):\n",
    "        message += ' Currency,'\n",
    "        \n",
    "    if(org_f == 1):\n",
    "        message += ' Organisation,'\n",
    "    message +=' is/are not verified in the document. /n'\n",
    "    message += stamp_message\n",
    "\n",
    "else:\n",
    "    validation = 'Verified !!'\n",
    "    message = 'All the fields are verified'"
   ]
  },
  {
   "cell_type": "markdown",
   "metadata": {},
   "source": [
    "### <u> Saving the extracted attributes and assessment report in the form of DataFrame </u>\n",
    "The extracted attributes which includes - <br>\n",
    "a) Reference number<br>\n",
    "b) Invoice Date<br>\n",
    "c) Settlement date<br>\n",
    "d) Counterparty Name<br>\n",
    "e) Amount<br>\n",
    "f) Information About the verification<br>\n",
    "g) Detailed Assessment Report"
   ]
  },
  {
   "cell_type": "code",
   "execution_count": 63,
   "metadata": {},
   "outputs": [],
   "source": [
    "#df1 = pd.read_excel(\"output.xlsx\", index_col=None)\n",
    "df2 = pd.DataFrame({\"Reference no.\":[ref_no], \n",
    "                    \"Invoice Date\":[invdate.upper()],\n",
    "                    \"Settlement Date\":[setdate.upper()],\n",
    "                    \"Counterparty Name\":[sys_counter_party.upper()], \n",
    "                    \"Amount\":[invoice_amt],\n",
    "                    \"Verification\":[validation.upper()],\n",
    "                    \"Message\":[message.upper()]})"
   ]
  },
  {
   "cell_type": "code",
   "execution_count": 65,
   "metadata": {},
   "outputs": [
    {
     "data": {
      "text/html": [
       "<div>\n",
       "<style scoped>\n",
       "    .dataframe tbody tr th:only-of-type {\n",
       "        vertical-align: middle;\n",
       "    }\n",
       "\n",
       "    .dataframe tbody tr th {\n",
       "        vertical-align: top;\n",
       "    }\n",
       "\n",
       "    .dataframe thead th {\n",
       "        text-align: right;\n",
       "    }\n",
       "</style>\n",
       "<table border=\"1\" class=\"dataframe\">\n",
       "  <thead>\n",
       "    <tr style=\"text-align: right;\">\n",
       "      <th></th>\n",
       "      <th>Reference no.</th>\n",
       "      <th>Invoice Date</th>\n",
       "      <th>Settlement Date</th>\n",
       "      <th>Counterparty Name</th>\n",
       "      <th>Amount</th>\n",
       "      <th>Verification</th>\n",
       "      <th>Message</th>\n",
       "    </tr>\n",
       "  </thead>\n",
       "  <tbody>\n",
       "    <tr>\n",
       "      <th>0</th>\n",
       "      <td>1681869232</td>\n",
       "      <td>28-APRIL-2018</td>\n",
       "      <td>07-JULY-2018</td>\n",
       "      <td>456 INDIA PRIVATE LIMITED</td>\n",
       "      <td>456000.0</td>\n",
       "      <td>NOT VERIFIED !!</td>\n",
       "      <td>PAYMENT DATE, ORGANISATION, IS/ARE NOT VERIFI...</td>\n",
       "    </tr>\n",
       "  </tbody>\n",
       "</table>\n",
       "</div>"
      ],
      "text/plain": [
       "   Reference no.   Invoice Date Settlement Date          Counterparty Name  \\\n",
       "0     1681869232  28-APRIL-2018    07-JULY-2018  456 INDIA PRIVATE LIMITED   \n",
       "\n",
       "     Amount     Verification  \\\n",
       "0  456000.0  NOT VERIFIED !!   \n",
       "\n",
       "                                             Message  \n",
       "0   PAYMENT DATE, ORGANISATION, IS/ARE NOT VERIFI...  "
      ]
     },
     "execution_count": 65,
     "metadata": {},
     "output_type": "execute_result"
    }
   ],
   "source": [
    "df2"
   ]
  }
 ],
 "metadata": {
  "kernelspec": {
   "display_name": "Python 3",
   "language": "python",
   "name": "python3"
  },
  "language_info": {
   "codemirror_mode": {
    "name": "ipython",
    "version": 3
   },
   "file_extension": ".py",
   "mimetype": "text/x-python",
   "name": "python",
   "nbconvert_exporter": "python",
   "pygments_lexer": "ipython3",
   "version": "3.7.1"
  }
 },
 "nbformat": 4,
 "nbformat_minor": 2
}
